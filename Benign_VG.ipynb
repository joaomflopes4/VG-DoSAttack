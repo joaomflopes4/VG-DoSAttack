{
 "cells": [
  {
   "cell_type": "code",
   "execution_count": 1,
   "metadata": {},
   "outputs": [],
   "source": [
    "import pandas as pd\n",
    "from sklearn.preprocessing import LabelEncoder"
   ]
  },
  {
   "cell_type": "code",
   "execution_count": null,
   "metadata": {},
   "outputs": [],
   "source": [
    "# Read CSV file\n",
    "df = pd.read_csv('../logs/ppinto-logs/17206289/logs.csv')\n",
    "df"
   ]
  },
  {
   "cell_type": "code",
   "execution_count": null,
   "metadata": {},
   "outputs": [],
   "source": [
    "# Read only lines that contain a given ip\n",
    "df = df[(df['Source'] == '192.168.2.83') | (df['Source'] == '192.168.2.183')]\n",
    "df"
   ]
  },
  {
   "cell_type": "code",
   "execution_count": null,
   "metadata": {},
   "outputs": [],
   "source": [
    "df = df.head(130)\n",
    "df"
   ]
  },
  {
   "cell_type": "code",
   "execution_count": null,
   "metadata": {},
   "outputs": [],
   "source": [
    "# Transform categorical values to numeric\n",
    "def Encoder(df):\n",
    "          columnsToEncode = list(df.select_dtypes(include=['category','object']))\n",
    "          le = LabelEncoder()\n",
    "          for feature in columnsToEncode:\n",
    "              try:\n",
    "                  df[feature] = le.fit_transform(df[feature])\n",
    "              except:\n",
    "                  print('Error encoding '+feature)\n",
    "          return df\n",
    "\n",
    "df = Encoder(df)"
   ]
  },
  {
   "cell_type": "code",
   "execution_count": 6,
   "metadata": {},
   "outputs": [],
   "source": [
    "# Specify only one column\n",
    "ts = df[\"Protocol\"].tolist()"
   ]
  },
  {
   "attachments": {},
   "cell_type": "markdown",
   "metadata": {},
   "source": [
    "Visibility Graphs"
   ]
  },
  {
   "cell_type": "code",
   "execution_count": 7,
   "metadata": {},
   "outputs": [],
   "source": [
    "from matplotlib import pyplot as plt\n",
    "import numpy as np"
   ]
  },
  {
   "cell_type": "code",
   "execution_count": 8,
   "metadata": {},
   "outputs": [],
   "source": [
    "from visibility_graph import visibility_graph"
   ]
  },
  {
   "cell_type": "code",
   "execution_count": 9,
   "metadata": {},
   "outputs": [],
   "source": [
    "result = visibility_graph(ts)"
   ]
  },
  {
   "cell_type": "code",
   "execution_count": null,
   "metadata": {},
   "outputs": [],
   "source": [
    "fig = plt.figure()\n",
    "N = 60\n",
    "ax = fig.add_axes([0,0,1,1])\n",
    "ind = np.arange(N)\n",
    " \n",
    "ax.bar(ind,ts, width=0.1)\n",
    "ax.set_xticklabels([])\n",
    "ax.set_yticklabels([])\n",
    "ax.set_xticks([])\n",
    "ax.set_yticks([])\n",
    "#ax.set_xlabel('Number of Packets (min: {}, max: {})'.format(min(ind), max(ind)))\n",
    "#ax.set_ylabel('Length (min: {}, max: {})'.format(min(ts), max(ts)))\n",
    "ax.set_xlabel('Number of Packets')\n",
    "ax.set_ylabel('Protocol')\n",
    "array_length = len(ind)\n",
    "last_element = ind[array_length - 1]\n",
    "\n",
    "\n",
    "#ax.text(-5.00, min(ts)-(max(ts)-min(ts))*(-0.02), '{}'.format(min(ts)), ha='left', va='top')\n",
    "##ax.text(-4.00, 1.015*max(ts), '{}'.format(max(ts)), ha='right', va='top')\n",
    "ax.text(ind[0]-0.5, -0.059*(max(ts)-min(ts)), '{}'.format(min(ind)), ha='left', va='bottom')\n",
    "#ax.text(ind[-1]+1, -0.059*(max(ts)-min(ts)), '{}'.format(max(ind)), ha='right', va='bottom')\n",
    "\n",
    "\n",
    "edgelisteth = list(result.edges)\n",
    "\n",
    "\n",
    "for i,j in edgelisteth:\n",
    "  x1, y1 = [i, j], [ts[i], ts[j]]\n",
    "  plt.plot(x1, y1, color='red')\n",
    "  \n",
    "plt.title(\"Visibility Graph\", fontsize = 15)\n",
    "\n",
    "plt.xticks(list(ax.get_xticks()) + [min(ind), max(ind)])\n",
    "plt.yticks(list(ax.get_yticks()) + [min(ts), max(ts)])\n",
    "\n",
    "plt.tight_layout()\n",
    "plt.savefig('images_new/vg/benign_Protocol_60.png', bbox_inches='tight')\n",
    "plt.show()\n"
   ]
  }
 ],
 "metadata": {
  "kernelspec": {
   "display_name": "Python 3",
   "language": "python",
   "name": "python3"
  },
  "language_info": {
   "codemirror_mode": {
    "name": "ipython",
    "version": 3
   },
   "file_extension": ".py",
   "mimetype": "text/x-python",
   "name": "python",
   "nbconvert_exporter": "python",
   "pygments_lexer": "ipython3",
   "version": "3.9.6"
  },
  "orig_nbformat": 4,
  "vscode": {
   "interpreter": {
    "hash": "31f2aee4e71d21fbe5cf8b01ff0e069b9275f58929596ceb00d14d90e3e16cd6"
   }
  }
 },
 "nbformat": 4,
 "nbformat_minor": 2
}
